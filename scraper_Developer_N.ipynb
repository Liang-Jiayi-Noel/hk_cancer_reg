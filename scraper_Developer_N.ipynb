{
 "cells": [
  {
   "cell_type": "code",
   "execution_count": 1,
   "metadata": {},
   "outputs": [
    {
     "name": "stderr",
     "output_type": "stream",
     "text": [
      "C:\\Users\\Noel\\AppData\\Local\\Temp\\ipykernel_19684\\2478485060.py:18: DeprecationWarning: executable_path has been deprecated, please pass in a Service object\n",
      "  chrome_driver = webdriver.Chrome(local_driver_path)\n"
     ]
    },
    {
     "name": "stdout",
     "output_type": "stream",
     "text": [
      "['140a', '140', '141', '143', '142', '146', '148', '149', '147', '150', '151', '152', '153a', '153', '154', '155', '156', '157', '161', '162', '160', '163', '168', '170a', '170', '171', '172', '173', '169', '174', '184', '180', '182', '179', '183', '181', '187', '185', '186', '188', '189', '191', '193', '190', '194', '200', '201', '203', '204', '167', '999', '888']\n"
     ]
    }
   ],
   "source": [
    "import os \n",
    "import json, time, datetime\n",
    "import pandas as pd\n",
    "import numpy as np \n",
    "import selenium\n",
    "from selenium import webdriver\n",
    "from selenium.webdriver.support.ui import WebDriverWait\n",
    "from selenium.webdriver.common.keys import Keys \n",
    "from selenium.webdriver import ChromeOptions\n",
    "from selenium.webdriver.common.by import By\n",
    "from selenium.webdriver.support.select import Select\n",
    "from selenium.webdriver.common.alert import Alert\n",
    "from selenium.webdriver.common.action_chains import ActionChains\n",
    "from selenium.webdriver.support import expected_conditions as EC\n",
    "pd.options.display.max_colwidth=50\n",
    "\n",
    "local_driver_path = r\"C:\\Users\\Noel\\Documents\\GitHub\\hk_cancer_reg\\chromedriver.exe\"\n",
    "chrome_driver = webdriver.Chrome(local_driver_path)\n",
    "chrome_driver.get(\"https://www3.ha.org.hk/cancereg/allages.asp\")\n",
    "\n",
    "disease_console=chrome_driver.find_element(By.XPATH, '//*[@id=\"content\"]/div/div/div[2]/form/fieldset[2]')\n",
    "disease_code_full=[i.get_attribute(\"name\") for i in disease_console.find_elements(By.TAG_NAME, \"input\")]\n",
    "\n",
    "chrome_driver.quit()\n",
    "print(disease_code_full)"
   ]
  },
  {
   "cell_type": "code",
   "execution_count": 16,
   "metadata": {},
   "outputs": [
    {
     "name": "stderr",
     "output_type": "stream",
     "text": [
      "C:\\Users\\Noel\\AppData\\Local\\Temp\\ipykernel_19684\\3164319445.py:2: DeprecationWarning: executable_path has been deprecated, please pass in a Service object\n",
      "  chrome_driver = webdriver.Chrome(local_driver_path)\n"
     ]
    },
    {
     "name": "stdout",
     "output_type": "stream",
     "text": [
      "Scraping data for year=2020......\n",
      "Checkbox status-> Incidence/Mortality: True False\n",
      "Checkbox status-> Male/Female: False True\n",
      "Checkbox status-> Age interval: True\n",
      "Checkbox status-> 140a: True\n",
      "Redirecting to requested table......\n"
     ]
    },
    {
     "data": {
      "text/plain": [
       "['Cancer type',\n",
       " '0-4',\n",
       " '5-9',\n",
       " '10-14',\n",
       " '15-19',\n",
       " '20-24',\n",
       " '25-29',\n",
       " '30-34',\n",
       " '35-39',\n",
       " '40-44',\n",
       " '45-49',\n",
       " '50-54',\n",
       " '55-59',\n",
       " '60-64',\n",
       " '65-69',\n",
       " '70-74',\n",
       " '75-79',\n",
       " '80-84',\n",
       " '85+',\n",
       " 'All\\nAges',\n",
       " 'Rel.\\nfreq.(%)']"
      ]
     },
     "execution_count": 16,
     "metadata": {},
     "output_type": "execute_result"
    }
   ],
   "source": [
    "def scraper_Incidence_YearSex (local_driver_path, html_dict, sex_input_by_user, year_input_by_user, target_disease_list):\n",
    "    chrome_driver = webdriver.Chrome(local_driver_path)\n",
    "    chrome_driver.get(\"https://www3.ha.org.hk/cancereg/allages.asp\")\n",
    "\n",
    "    print(f\"Scraping data for year={year_input_by_user}......\")\n",
    "\n",
    "    # Step 1: Select data type, demographics and year range\n",
    "    step1_console=chrome_driver.find_element(By.XPATH, html_dict[\"step1\"])\n",
    "    data_button=step1_console.find_element(By.XPATH, html_dict[\"incidence\"])\n",
    "    age_botton=step1_console.find_element(By.XPATH, html_dict[\"age_interval\"])\n",
    "    male_button=step1_console.find_element(By.XPATH, html_dict[\"male\"])\n",
    "    female_button=step1_console.find_element(By.XPATH, html_dict[\"female\"])\n",
    "    yr_box1=Select(chrome_driver.find_element(By.XPATH, html_dict[\"yr_x\"]))\n",
    "    yr_box2=Select(chrome_driver.find_element(By.XPATH, html_dict[\"yr_y\"]))\n",
    "\n",
    "    data_button.click(), age_botton.click()\n",
    "    if sex_input_by_user == \"m\": male_button.click()\n",
    "    if sex_input_by_user == \"f\": female_button.click()\n",
    "    yr_box1.select_by_visible_text(year_input_by_user)\n",
    "    yr_box2.select_by_visible_text(year_input_by_user)\n",
    "\n",
    "    print(\"Checkbox status-> Incidence/Mortality:\", data_button.get_attribute(\"value\")==\"1\", data_button.get_attribute(\"value\")==\"2\")\n",
    "    print(\"Checkbox status-> Male/Female:\", male_button.is_selected(), female_button.is_selected())\n",
    "    print(\"Checkbox status-> Age interval:\", age_botton.get_attribute(\"value\")==\"2\")\n",
    "    \n",
    "    # Step 2: Select one or more cancer types listed below\n",
    "    step2_console=chrome_driver.find_element(By.XPATH, html_dict[\"step2\"])\n",
    "    disease_codes=[i.get_attribute(\"name\") for i in step2_console.find_elements(By.TAG_NAME, \"input\")]\n",
    "    for i in target_disease_list:\n",
    "        disease_button=step2_console.find_element(By.NAME, i)\n",
    "        disease_button.click()\n",
    "        print(f\"Checkbox status-> {i}: {disease_button.is_selected()}\")\n",
    "\n",
    "    # Step 3 & 4: Select the standard population , Select the output format\n",
    "    chrome_driver.find_element(By.XPATH, html_dict[\"step3\"]).click()\n",
    "    chrome_driver.find_element(By.XPATH, html_dict[\"step4\"]).click()\n",
    "    chrome_driver.find_element(By.XPATH, html_dict[\"execute\"]).click()\n",
    "    \n",
    "    print(f\"Redirecting to requested table......\")\n",
    "\n",
    "    # Copying the requested table\n",
    "    WebDriverWait(chrome_driver, 20).until(EC.number_of_windows_to_be(2))\n",
    "    result_page=chrome_driver.window_handles[1]\n",
    "    chrome_driver.switch_to.window(result_page)\n",
    "\n",
    "    chrome_driver.execute_script(\"window.scrollTo(0,document.body.scrollHeight)\")\n",
    "\n",
    "    tb1=chrome_driver.find_element(By.XPATH, '//*[@id=\"mi55lucky\"]/div[1]')\n",
    "    tb1_header=[i.text for i in tb1.find_elements(By.TAG_NAME, \"th\")]\n",
    "    tb1_data=[i.text for i in tb1.find_elements(By.TAG_NAME, \"td\")]\n",
    "    tb1_row_num=len(tb1_data[0::len(tb1_header)])\n",
    "    tb1_data_cut=np.array_split(tb1_data, tb1_row_num)\n",
    "\n",
    "    # tb2=chrome_driver.find_element(By.XPATH, '//*[@id=\"mi55lucky\"]/div[2]')\n",
    "    # tb2_header=[i.text for i in tb2.find_elements(By.TAG_NAME, \"th\")]\n",
    "    # tb2_data=[i.text for i in tb2.find_elements(By.TAG_NAME, \"td\")]\n",
    "    # tb2_row_num=len(tb2_data[0::len(tb2_header)])\n",
    "    # tb2_data_cut=np.array_split(tb2_data, tb2_row_num)\n",
    "\n",
    "    df1=pd.DataFrame(data=tb1_data_cut, columns=tb1_header)\n",
    "    # df2=pd.DataFrame(tb2_data,tb2_row_num)\n",
    "    # df=df1.append(df2)\n",
    "\n",
    "    time.sleep(3)\n",
    "    chrome_driver.quit()\n",
    "    return tb1_header\n",
    "\n",
    "########################################################################################\n",
    "# TEST \n",
    "########################################################################################\n",
    "web_elements = {\n",
    "    \"step1\": '//*[@id=\"content\"]/div/div/div[2]/form/fieldset[1]',\n",
    "    \"incidence\": '//*[@id=\"content\"]/div/div/div[2]/form/fieldset[1]/p[1]/input[1]',\n",
    "    \"mortality\": '//*[@id=\"content\"]/div/div/div[2]/form/fieldset[1]/p[1]/input[2]',\n",
    "    \"male\": '//*[@id=\"content\"]/div/div/div[2]/form/fieldset[1]/p[2]/input[2]',\n",
    "    \"female\": '//*[@id=\"content\"]/div/div/div[2]/form/fieldset[1]/p[2]/input[3]',\n",
    "    \"age_interval\": '//*[@id=\"content\"]/div/div/div[2]/form/fieldset[1]/table/tbody/tr[2]/td[2]/input',\n",
    "    \"yr_x\": '//*[@id=\"content\"]/div/div/div[2]/form/fieldset[1]/p[3]/label[1]/select',\n",
    "    \"yr_y\": '//*[@id=\"content\"]/div/div/div[2]/form/fieldset[1]/p[3]/label[2]/select',\n",
    "    \"step2\": '//*[@id=\"content\"]/div/div/div[2]/form/fieldset[2]', \n",
    "    \"step3\": '//*[@id=\"content\"]/div/div/div[2]/form/fieldset[3]/p/input[1]',\n",
    "    \"step4\": '//*[@id=\"content\"]/div/div/div[2]/form/fieldset[4]/p/input[2]',\n",
    "    \"execute\": '//*[@id=\"content\"]/div/div/div[2]/form/div/input[1]'\n",
    "}\n",
    "\n",
    "# male_only= [range(185,187)]\n",
    "# female_only= [range(179,184)]\n",
    "# male_list= list(set(disease_code_full) - set(female_only))\n",
    "# female_list= list(set(disease_code_full) - set(male_only))\n",
    "\n",
    "test=scraper_Incidence_YearSex(\n",
    "    local_driver_path=r\"C:\\Users\\Noel\\Documents\\GitHub\\hk_cancer_reg\\chromedriver.exe\",\n",
    "    html_dict = web_elements,\n",
    "    year_input_by_user=str(2020),\n",
    "    sex_input_by_user=\"f\",\n",
    "    target_disease_list=['140a']\n",
    "); test"
   ]
  },
  {
   "cell_type": "code",
   "execution_count": 14,
   "metadata": {},
   "outputs": [
    {
     "data": {
      "text/html": [
       "<div>\n",
       "<style scoped>\n",
       "    .dataframe tbody tr th:only-of-type {\n",
       "        vertical-align: middle;\n",
       "    }\n",
       "\n",
       "    .dataframe tbody tr th {\n",
       "        vertical-align: top;\n",
       "    }\n",
       "\n",
       "    .dataframe thead th {\n",
       "        text-align: right;\n",
       "    }\n",
       "</style>\n",
       "<table border=\"1\" class=\"dataframe\">\n",
       "  <thead>\n",
       "    <tr style=\"text-align: right;\">\n",
       "      <th></th>\n",
       "      <th>name</th>\n",
       "      <th>age</th>\n",
       "    </tr>\n",
       "  </thead>\n",
       "  <tbody>\n",
       "    <tr>\n",
       "      <th>0</th>\n",
       "      <td>Noel</td>\n",
       "      <td>16</td>\n",
       "    </tr>\n",
       "    <tr>\n",
       "      <th>1</th>\n",
       "      <td>YK</td>\n",
       "      <td>8</td>\n",
       "    </tr>\n",
       "    <tr>\n",
       "      <th>2</th>\n",
       "      <td>Aidi</td>\n",
       "      <td>5</td>\n",
       "    </tr>\n",
       "  </tbody>\n",
       "</table>\n",
       "</div>"
      ],
      "text/plain": [
       "   name  age\n",
       "0  Noel   16\n",
       "1    YK    8\n",
       "2  Aidi    5"
      ]
     },
     "execution_count": 14,
     "metadata": {},
     "output_type": "execute_result"
    }
   ],
   "source": [
    "data_dict={\n",
    "    \"name\":[\"Noel\", \"YK\", \"Aidi\"],\n",
    "    \"age\": [16, 8, 5]\n",
    "}\n",
    "\n",
    "pd.DataFrame(data_dict)"
   ]
  },
  {
   "cell_type": "code",
   "execution_count": null,
   "metadata": {},
   "outputs": [],
   "source": []
  }
 ],
 "metadata": {
  "kernelspec": {
   "display_name": "base",
   "language": "python",
   "name": "python3"
  },
  "language_info": {
   "codemirror_mode": {
    "name": "ipython",
    "version": 3
   },
   "file_extension": ".py",
   "mimetype": "text/x-python",
   "name": "python",
   "nbconvert_exporter": "python",
   "pygments_lexer": "ipython3",
   "version": "3.9.13"
  },
  "orig_nbformat": 4,
  "vscode": {
   "interpreter": {
    "hash": "528b2abc06046716902442f23a73ad52c1ccb8212ba2b3f53ef0e284a157a7a8"
   }
  }
 },
 "nbformat": 4,
 "nbformat_minor": 2
}
